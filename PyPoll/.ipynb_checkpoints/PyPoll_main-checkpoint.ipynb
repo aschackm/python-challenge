{
 "cells": [
  {
   "cell_type": "code",
   "execution_count": 1,
   "metadata": {
    "nbpresent": {
     "id": "414653b4-4401-4c95-9edf-b52d32626abe"
    }
   },
   "outputs": [],
   "source": [
    "### Import dependencies\n",
    "import os\n",
    "import csv\n",
    "from collections import Counter"
   ]
  },
  {
   "cell_type": "code",
   "execution_count": 27,
   "metadata": {
    "nbpresent": {
     "id": "e2b61513-5961-43b8-a6c3-f8f4b2cdc29a"
    }
   },
   "outputs": [],
   "source": [
    "### File paths\n",
    "csvpath = os.path.join(\"raw_data\", \"election_data_1.csv\")\n",
    "output_file = os.path.join(\"election_results.txt\")"
   ]
  },
  {
   "cell_type": "code",
   "execution_count": 3,
   "metadata": {
    "nbpresent": {
     "id": "f72e6b7f-806e-41bb-a82c-0bf4546aa1ec"
    }
   },
   "outputs": [],
   "source": [
    "### Read election data csv and count results\n",
    "with open(csvpath, newline='') as csvfile:\n",
    "    csvreader = csv.reader(csvfile, delimiter=\",\")\n",
    "    header = next(csvreader)\n",
    "    lines = [line for line in csvreader]\n",
    "    votes = list(Counter([l[2] for l in lines]).items())"
   ]
  },
  {
   "cell_type": "code",
   "execution_count": 4,
   "metadata": {
    "nbpresent": {
     "id": "27bd36cc-686e-4fd0-828f-4378115c3d1e"
    }
   },
   "outputs": [],
   "source": [
    "### Find total votes\n",
    "### Why did this have to run again to find total votes?\n",
    "with open(csvpath, newline='') as csvfile:\n",
    "    csvreader = csv.reader(csvfile, delimiter=\",\")\n",
    "    total_votes = sum(1 for row in csvreader)\n",
    "    votes.append(('Total Votes', total_votes))"
   ]
  },
  {
   "cell_type": "code",
   "execution_count": 62,
   "metadata": {
    "nbpresent": {
     "id": "7fb5cdaa-b022-4bb2-807b-a8d4ffacd8f5"
    }
   },
   "outputs": [],
   "source": [
    "### Creating the rows for the output file\n",
    "names = [i[0] for i in votes]\n",
    "vote_count = [i[1] for i in votes]\n",
    "vote_percent1 = [x*100 for x in[x/total_votes for x in vote_count]]\n",
    "vote_percent = [ '%.2f' % elem for elem in vote_percent1 ]\n",
    "y = 0\n",
    "while vote_count[y+1] > vote_count[y]: \n",
    "    y = y+1\n",
    "winner = names[y]"
   ]
  },
  {
   "cell_type": "code",
   "execution_count": 63,
   "metadata": {
    "nbpresent": {
     "id": "1ee80ac2-69c1-42dc-a219-e6ba2a8d861b"
    }
   },
   "outputs": [
    {
     "name": "stdout",
     "output_type": "stream",
     "text": [
      "----------------------------------------\n",
      "Total Votes 803001\n",
      "----------------------------------------\n",
      "Vestal: 48.00% 385440\n",
      "Torres: 44.00% 353320\n",
      "Seth: 5.00% 40150\n",
      "Cordin: 3.00% 24090\n",
      "Total Votes: 100.00% 803001\n",
      "----------------------------------------\n",
      "Winner:Vestal\n",
      "----------------------------------------\n"
     ]
    }
   ],
   "source": [
    "### print results\n",
    "print(\"-\"*40)\n",
    "print(\"Total Votes \" + str(total_votes))\n",
    "print(\"-\"*40)\n",
    "for z in range(len(names)): \n",
    "    print(names[z] + \": \" + str(vote_percent[z]) + \"% \" + str(vote_count[z])) \n",
    "print(\"-\"*40)\n",
    "print(\"Winner:\" + winner)\n",
    "print(\"-\"*40)\n",
    "        "
   ]
  },
  {
   "cell_type": "code",
   "execution_count": 64,
   "metadata": {
    "nbpresent": {
     "id": "b55a4a5d-0153-426b-a1f5-7e80d4d97d1c"
    }
   },
   "outputs": [],
   "source": [
    "f = open(output_file,'w')\n",
    "f.write(\"-\"*40)\n",
    "f.write(\"\\n\")\n",
    "f.write(\"Total Votes \" + str(total_votes))\n",
    "f.write(\"\\n\")\n",
    "f.write(\"-\"*40)\n",
    "f.write(\"\\n\")\n",
    "for z in range(len(names)): \n",
    "    f.write(names[z] + \": \" + str(vote_percent[z]) + \"% \" + str(vote_count[z]))\n",
    "    f.write(\"\\n\")\n",
    "f.write(\"-\"*40)\n",
    "f.write(\"\\n\")\n",
    "f.write(\"Winner:\" + winner)\n",
    "f.write(\"\\n\")\n",
    "f.write(\"-\"*40)\n",
    "f.write(\"\\n\")\n",
    "f.close()"
   ]
  },
  {
   "cell_type": "code",
   "execution_count": null,
   "metadata": {
    "nbpresent": {
     "id": "316fe2a9-8d35-4677-9db4-38c514da1f77"
    }
   },
   "outputs": [],
   "source": []
  },
  {
   "cell_type": "code",
   "execution_count": null,
   "metadata": {},
   "outputs": [],
   "source": []
  }
 ],
 "metadata": {
  "kernelspec": {
   "display_name": "Python [conda env:anaconda3]",
   "language": "python",
   "name": "conda-env-anaconda3-py"
  },
  "language_info": {
   "codemirror_mode": {
    "name": "ipython",
    "version": 3
   },
   "file_extension": ".py",
   "mimetype": "text/x-python",
   "name": "python",
   "nbconvert_exporter": "python",
   "pygments_lexer": "ipython3",
   "version": "3.6.4"
  }
 },
 "nbformat": 4,
 "nbformat_minor": 2
}
