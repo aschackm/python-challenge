{
 "cells": [
  {
   "cell_type": "code",
   "execution_count": 3,
   "metadata": {},
   "outputs": [],
   "source": [
    "### import dependencies\n",
    "import os\n",
    "### text file path\n",
    "txtpath = os.path.join(\"raw_data\", \"paragraph_1.txt\")"
   ]
  },
  {
   "cell_type": "code",
   "execution_count": 4,
   "metadata": {},
   "outputs": [],
   "source": [
    "### define variables\n",
    "word_count = 0\n",
    "sentence_count = 0\n",
    "ave_letter_count = 0\n",
    "ave_sentence_length = 0"
   ]
  },
  {
   "cell_type": "code",
   "execution_count": 13,
   "metadata": {},
   "outputs": [],
   "source": [
    "### open txt and get counts\n",
    "with open(txtpath, 'r') as paragraph:\n",
    "    for line in paragraph:\n",
    "        word_list = line.split(\" \")\n",
    "        word_count += len(word_list)\n",
    "        sentence_list = line.split(\".\" or \"?\" or \"!\")\n",
    "        sentence_count += len(sentence_list)"
   ]
  },
  {
   "cell_type": "code",
   "execution_count": 18,
   "metadata": {},
   "outputs": [],
   "source": [
    "### averages\n",
    "ave_letter_count = sum(len(word) for word in word_list) / len(word_list)\n",
    "ave_sentence_length = sum(len(sentence) for sentence in sentence_list) / len(sentence_list)"
   ]
  },
  {
   "cell_type": "code",
   "execution_count": 25,
   "metadata": {},
   "outputs": [
    {
     "name": "stdout",
     "output_type": "stream",
     "text": [
      "Paragraph Analysis\n",
      "----------------------------------------\n",
      "Approximate Word Count:390\n",
      "Approximate Sentence Count:6\n",
      "Average Letter Count:6.392307692307693\n",
      "Average Sentence Length:159.16666666666666\n"
     ]
    }
   ],
   "source": [
    "print(\"Paragraph Analysis\")\n",
    "print(\"-\"*40)\n",
    "print(\"Approximate Word Count:\" + str(word_count))\n",
    "print(\"Approximate Sentence Count:\" + str(sentence_count))\n",
    "print(\"Average Letter Count:\" + str(ave_letter_count))\n",
    "print(\"Average Sentence Length:\" + str(ave_sentence_length))\n",
    "\n",
    "    "
   ]
  },
  {
   "cell_type": "code",
   "execution_count": null,
   "metadata": {},
   "outputs": [],
   "source": []
  }
 ],
 "metadata": {
  "kernelspec": {
   "display_name": "Python [conda env:anaconda3]",
   "language": "python",
   "name": "conda-env-anaconda3-py"
  },
  "language_info": {
   "codemirror_mode": {
    "name": "ipython",
    "version": 3
   },
   "file_extension": ".py",
   "mimetype": "text/x-python",
   "name": "python",
   "nbconvert_exporter": "python",
   "pygments_lexer": "ipython3",
   "version": "3.6.4"
  }
 },
 "nbformat": 4,
 "nbformat_minor": 2
}
